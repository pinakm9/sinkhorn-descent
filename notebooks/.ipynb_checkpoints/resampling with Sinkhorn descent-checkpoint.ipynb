{
 "cells": [
  {
   "cell_type": "code",
   "execution_count": 1,
   "id": "interior-philip",
   "metadata": {},
   "outputs": [
    {
     "name": "stdout",
     "output_type": "stream",
     "text": [
      "C:\\Users\\pinak\\Documents\\GitHub\\sinkhorn-descent\\notebooks\n",
      "C:\\Users\\pinak\\Documents\\GitHub\\sinkhorn-descent\n"
     ]
    }
   ],
   "source": [
    "# add modules folder to Python's search path\n",
    "import os, sys\n",
    "from pathlib import Path\n",
    "\n",
    "script_dir = Path(os.path.abspath(''))\n",
    "module_dir = str(script_dir.parent)\n",
    "print(script_dir)\n",
    "print(module_dir)\n",
    "sys.path.insert(0, module_dir + '/modules')\n",
    "\n",
    "# import necessary modules\n",
    "import wasserstein as ws\n",
    "import tensorflow_probability as tfp\n",
    "import tensorflow as tf\n",
    "import matplotlib.pyplot as plt\n",
    "import numpy as np"
   ]
  },
  {
   "cell_type": "markdown",
   "id": "white-broadway",
   "metadata": {},
   "source": [
    "**Define weight, pdf and sampler**"
   ]
  },
  {
   "cell_type": "code",
   "execution_count": 72,
   "id": "wrong-valentine",
   "metadata": {},
   "outputs": [],
   "source": [
    "n_particles, y = 100, 5.\n",
    "def w(x, y):\n",
    "  return tf.squeeze(tf.math.exp(-0.5*(x-y)**2))\n",
    "\n",
    "X = tfp.distributions.Normal(loc=0., scale=1.)\n",
    "Z = tfp.distributions.Normal(loc=y/2., scale=0.5)\n",
    "def p(x):\n",
    "  return X.prob(x)\n",
    "def sampler(shape):\n",
    "  return X.sample(shape)"
   ]
  },
  {
   "cell_type": "markdown",
   "id": "dying-filing",
   "metadata": {},
   "source": [
    "**Use Sinkhorn Gradient descent to find a uniform sample**"
   ]
  },
  {
   "cell_type": "code",
   "execution_count": 73,
   "id": "legislative-newspaper",
   "metadata": {},
   "outputs": [
    {
     "name": "stdout",
     "output_type": "stream",
     "text": [
      "Step = 1, Sinkhorn divergence = 8.798890113830566\n",
      "Step = 2, Sinkhorn divergence = 8.029719352722168\n",
      "Step = 3, Sinkhorn divergence = 7.296720027923584\n",
      "Step = 4, Sinkhorn divergence = 6.609560012817383\n",
      "Step = 5, Sinkhorn divergence = 5.920179843902588\n",
      "Step = 6, Sinkhorn divergence = 5.25577974319458\n",
      "Step = 7, Sinkhorn divergence = 4.667829990386963\n",
      "Step = 8, Sinkhorn divergence = 4.114099979400635\n",
      "Step = 9, Sinkhorn divergence = 3.592829942703247\n",
      "Step = 10, Sinkhorn divergence = 3.1062099933624268\n",
      "Step = 11, Sinkhorn divergence = 2.6647298336029053\n",
      "Step = 12, Sinkhorn divergence = 2.261039972305298\n",
      "Step = 13, Sinkhorn divergence = 1.875369906425476\n",
      "Step = 14, Sinkhorn divergence = 1.5521599054336548\n",
      "Step = 15, Sinkhorn divergence = 1.2588399648666382\n",
      "Step = 16, Sinkhorn divergence = 1.0020699501037598\n",
      "Step = 17, Sinkhorn divergence = 0.7803499698638916\n",
      "Step = 18, Sinkhorn divergence = 0.5874300003051758\n",
      "Step = 19, Sinkhorn divergence = 0.4393799901008606\n",
      "Step = 20, Sinkhorn divergence = 0.3197000026702881\n",
      "Step = 21, Sinkhorn divergence = 0.22772999107837677\n",
      "Step = 22, Sinkhorn divergence = 0.15929000079631805\n",
      "Step = 23, Sinkhorn divergence = 0.11225999891757965\n",
      "Step = 24, Sinkhorn divergence = 0.07774999737739563\n",
      "Step = 25, Sinkhorn divergence = 0.05297999829053879\n",
      "Step = 26, Sinkhorn divergence = 0.036240000277757645\n",
      "Step = 27, Sinkhorn divergence = 0.025469999760389328\n",
      "Step = 28, Sinkhorn divergence = 0.01768999919295311\n",
      "Step = 29, Sinkhorn divergence = 0.012399999424815178\n",
      "Step = 30, Sinkhorn divergence = 0.008870000019669533\n",
      "Step = 31, Sinkhorn divergence = 0.006490000057965517\n",
      "Step = 32, Sinkhorn divergence = 0.004859999753534794\n",
      "Step = 33, Sinkhorn divergence = 0.0036899999249726534\n",
      "Step = 34, Sinkhorn divergence = 0.002839999971911311\n",
      "Step = 35, Sinkhorn divergence = 0.002199999988079071\n",
      "Step = 36, Sinkhorn divergence = 0.00171999994199723\n",
      "Step = 37, Sinkhorn divergence = 0.001349999918602407\n",
      "Step = 38, Sinkhorn divergence = 0.001069999998435378\n",
      "Step = 39, Sinkhorn divergence = 0.0008499999530613422\n",
      "Step = 40, Sinkhorn divergence = 0.0006899999571032822\n",
      "Step = 41, Sinkhorn divergence = 0.0005599999567493796\n",
      "Step = 42, Sinkhorn divergence = 0.0004799999878741801\n",
      "Step = 43, Sinkhorn divergence = 0.0004199999966658652\n",
      "Step = 44, Sinkhorn divergence = 0.00037999998312443495\n",
      "Step = 45, Sinkhorn divergence = 0.0003499999875202775\n",
      "Step = 46, Sinkhorn divergence = 0.00033999999868683517\n",
      "Step = 47, Sinkhorn divergence = 0.0003299999807495624\n",
      "Step = 48, Sinkhorn divergence = 0.00033999999868683517\n",
      "Step = 49, Sinkhorn divergence = 0.0003499999875202775\n",
      "Step = 50, Sinkhorn divergence = 0.0003600000054575503\n",
      "Step = 51, Sinkhorn divergence = 0.0003699999942909926\n",
      "Step = 52, Sinkhorn divergence = 0.00039000000106170774\n",
      "Step = 53, Sinkhorn divergence = 0.00039999998989515007\n",
      "Step = 54, Sinkhorn divergence = 0.0004099999787285924\n",
      "Step = 55, Sinkhorn divergence = 0.0004299999854993075\n",
      "Step = 56, Sinkhorn divergence = 0.00043999997433274984\n",
      "Step = 57, Sinkhorn divergence = 0.00044999999227002263\n",
      "Step = 58, Sinkhorn divergence = 0.00045999998110346496\n",
      "Step = 59, Sinkhorn divergence = 0.00046999999904073775\n",
      "Step = 60, Sinkhorn divergence = 0.0004799999878741801\n",
      "Step = 61, Sinkhorn divergence = 0.0004900000058114529\n",
      "Step = 62, Sinkhorn divergence = 0.0004900000058114529\n",
      "Step = 63, Sinkhorn divergence = 0.0004999999655410647\n",
      "Step = 64, Sinkhorn divergence = 0.0004999999655410647\n",
      "Step = 65, Sinkhorn divergence = 0.0005099999834783375\n",
      "Step = 66, Sinkhorn divergence = 0.0005099999834783375\n",
      "Step = 67, Sinkhorn divergence = 0.0005099999834783375\n",
      "Step = 68, Sinkhorn divergence = 0.0005099999834783375\n",
      "Step = 69, Sinkhorn divergence = 0.0005099999834783375\n",
      "Step = 70, Sinkhorn divergence = 0.0004999999655410647\n",
      "Step = 71, Sinkhorn divergence = 0.0004999999655410647\n",
      "Step = 72, Sinkhorn divergence = 0.0004999999655410647\n",
      "Step = 73, Sinkhorn divergence = 0.0004900000058114529\n",
      "Step = 74, Sinkhorn divergence = 0.0004900000058114529\n",
      "Step = 75, Sinkhorn divergence = 0.0004799999878741801\n",
      "Step = 76, Sinkhorn divergence = 0.00046999999904073775\n",
      "Step = 77, Sinkhorn divergence = 0.00046999999904073775\n",
      "Step = 78, Sinkhorn divergence = 0.00045999998110346496\n",
      "Step = 79, Sinkhorn divergence = 0.00044999999227002263\n",
      "Step = 80, Sinkhorn divergence = 0.00043999997433274984\n",
      "Step = 81, Sinkhorn divergence = 0.0004299999854993075\n",
      "Step = 82, Sinkhorn divergence = 0.0004299999854993075\n",
      "Step = 83, Sinkhorn divergence = 0.0004199999966658652\n",
      "Step = 84, Sinkhorn divergence = 0.0004099999787285924\n",
      "Step = 85, Sinkhorn divergence = 0.00039999998989515007\n",
      "Step = 86, Sinkhorn divergence = 0.00039000000106170774\n",
      "Step = 87, Sinkhorn divergence = 0.00037999998312443495\n",
      "Step = 88, Sinkhorn divergence = 0.0003699999942909926\n",
      "Step = 89, Sinkhorn divergence = 0.0003600000054575503\n",
      "Step = 90, Sinkhorn divergence = 0.0003499999875202775\n",
      "Step = 91, Sinkhorn divergence = 0.00033999999868683517\n",
      "Step = 92, Sinkhorn divergence = 0.0003299999807495624\n",
      "Step = 93, Sinkhorn divergence = 0.00031999999191612005\n",
      "Step = 94, Sinkhorn divergence = 0.00029999998514540493\n",
      "Step = 95, Sinkhorn divergence = 0.0002899999963119626\n",
      "Step = 96, Sinkhorn divergence = 0.0002799999783746898\n",
      "Step = 97, Sinkhorn divergence = 0.0002699999895412475\n",
      "Step = 98, Sinkhorn divergence = 0.00026000000070780516\n",
      "Step = 99, Sinkhorn divergence = 0.00024999998277053237\n",
      "Step = 100, Sinkhorn divergence = 0.00023999999393709004\n"
     ]
    }
   ],
   "source": [
    "sample = sampler((n_particles, 1))\n",
    "weights = w(sample, y)\n",
    "usf = ws.UniformSampleFinder(sample, weights, cost_p=6)\n",
    "u_sample = usf.find(n_iters=100);"
   ]
  },
  {
   "cell_type": "code",
   "execution_count": 74,
   "id": "agricultural-assistant",
   "metadata": {},
   "outputs": [
    {
     "data": {
      "image/png": "[encoded data removed]",
      "text/plain": [
       "<Figure size 432x288 with 1 Axes>"
      ]
     },
     "metadata": {
      "needs_background": "light"
     },
     "output_type": "display_data"
    }
   ],
   "source": [
    "sample_ = tf.squeeze(sample).numpy()\n",
    "x = np.arange(y/2.-2., y/2.+2., 0.8)\n",
    "px = np.exp(-(x-y/2.)**2)/np.sqrt(np.pi)\n",
    "z = Z.sample(n_particles).numpy()\n",
    "plt.hist(sample_, density=True, label='weighted sample')\n",
    "plt.hist(z, density=True, label='true sample')\n",
    "plt.hist(u_sample, density=True, label='uniform sample after Sinkhorn descent')\n",
    "plt.plot(x, px, label='True density')\n",
    "plt.legend()\n",
    "plt.show()"
   ]
  },
  {
   "cell_type": "code",
   "execution_count": 71,
   "id": "coral-coffee",
   "metadata": {},
   "outputs": [
    {
     "data": {
      "text/plain": [
       "2.1596022"
      ]
     },
     "execution_count": 71,
     "metadata": {},
     "output_type": "execute_result"
    }
   ],
   "source": [
    "np.mean(u_sample)"
   ]
  },
  {
   "cell_type": "code",
   "execution_count": 70,
   "id": "alternative-royal",
   "metadata": {},
   "outputs": [
    {
     "data": {
      "text/plain": [
       "array([2.0110211, 2.1222932, 2.2341423, 1.9026015, 2.3965144, 2.6194637,\n",
       "       2.6186166, 2.177876 , 2.1632915, 2.2541   , 1.8846731, 2.3322542,\n",
       "       2.306447 , 2.6196756, 1.7240448, 2.064314 , 1.6907821, 2.204412 ,\n",
       "       2.1078331, 2.2464395, 2.2233028, 2.1730072, 2.3602865, 2.4080858,\n",
       "       2.6176696, 2.3740108, 2.31838  , 2.1594262, 2.0649984, 2.1231756,\n",
       "       2.23786  , 2.1917527, 2.216303 , 2.219709 , 2.5053236, 2.2162993,\n",
       "       1.9549912, 2.1834917, 2.5739465, 1.6419913, 1.7141618, 2.141664 ,\n",
       "       2.0289829, 2.187753 , 2.3596992, 2.223785 , 1.9057891, 2.301833 ,\n",
       "       1.9901462, 2.2379918, 2.111236 , 2.1965237, 2.2275145, 2.0281844,\n",
       "       2.009379 , 2.1159647, 2.1276   , 2.1290889, 2.1954331, 2.0073862,\n",
       "       2.6195014, 2.1694186, 2.3103101, 2.6162071, 1.984403 , 2.2135017,\n",
       "       2.1533885, 2.025001 , 2.1772118, 2.2357466, 2.169167 , 1.9896067,\n",
       "       2.2387009, 2.20531  , 2.1967113, 2.1095057, 2.2239892, 1.9248117,\n",
       "       1.9989219, 2.1692848, 2.2680938, 2.1001608, 2.3147357, 2.2302122,\n",
       "       1.8967204, 2.3205068, 2.24725  , 2.3709867, 2.2088904, 2.1777236,\n",
       "       2.2260113, 1.9888865, 1.3087152, 2.1297238, 2.0995338, 2.0164335,\n",
       "       2.041254 , 1.9042268, 2.2341127, 1.4603894], dtype=float32)"
      ]
     },
     "execution_count": 70,
     "metadata": {},
     "output_type": "execute_result"
    }
   ],
   "source": [
    "u_sample"
   ]
  },
  {
   "cell_type": "code",
   "execution_count": null,
   "id": "furnished-sword",
   "metadata": {},
   "outputs": [],
   "source": []
  }
 ],
 "metadata": {
  "kernelspec": {
   "display_name": "Python 3",
   "language": "python",
   "name": "python3"
  },
  "language_info": {
   "codemirror_mode": {
    "name": "ipython",
    "version": 3
   },
   "file_extension": ".py",
   "mimetype": "text/x-python",
   "name": "python",
   "nbconvert_exporter": "python",
   "pygments_lexer": "ipython3",
   "version": "3.8.3"
  }
 },
 "nbformat": 4,
 "nbformat_minor": 5
}
