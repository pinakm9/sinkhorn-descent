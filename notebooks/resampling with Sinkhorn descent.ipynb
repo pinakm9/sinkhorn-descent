{
 "cells": [
  {
   "cell_type": "code",
   "execution_count": 1,
   "id": "modular-milan",
   "metadata": {},
   "outputs": [
    {
     "name": "stdout",
     "output_type": "stream",
     "text": [
      "C:\\Users\\pinak\\Documents\\GitHub\\sinkhorn-descent\\notebooks\n",
      "C:\\Users\\pinak\\Documents\\GitHub\\sinkhorn-descent\n"
     ]
    }
   ],
   "source": [
    "# add modules folder to Python's search path\n",
    "import os, sys\n",
    "from pathlib import Path\n",
    "\n",
    "script_dir = Path(os.path.abspath(''))\n",
    "module_dir = str(script_dir.parent)\n",
    "print(script_dir)\n",
    "print(module_dir)\n",
    "sys.path.insert(0, module_dir + '/modules')\n",
    "\n",
    "# import necessary modules\n",
    "import wasserstein as ws\n",
    "import tensorflow_probability as tfp\n",
    "import tensorflow as tf\n",
    "import matplotlib.pyplot as plt\n",
    "import numpy as np"
   ]
  },
  {
   "cell_type": "markdown",
   "id": "neutral-benchmark",
   "metadata": {},
   "source": [
    "**Define weight, pdf and sampler**"
   ]
  },
  {
   "cell_type": "code",
   "execution_count": 2,
   "id": "emerging-think",
   "metadata": {},
   "outputs": [],
   "source": [
    "n_particles, y = 100, 8.\n",
    "def w(x, mu):\n",
    "  return tf.squeeze(tf.math.exp(-0.5*(x-mu)**2))\n",
    "\n",
    "X = tfp.distributions.Normal(loc=0., scale=1.)\n",
    "Z = tfp.distributions.Normal(loc=y/2., scale=0.5)\n",
    "def p(x):\n",
    "  return X.prob(x)\n",
    "def sampler(shape):\n",
    "  return X.sample(shape)"
   ]
  },
  {
   "cell_type": "markdown",
   "id": "confirmed-federal",
   "metadata": {},
   "source": [
    "**Use Sinkhorn Gradient descent to find a uniform sample**"
   ]
  },
  {
   "cell_type": "code",
   "execution_count": 5,
   "id": "juvenile-export",
   "metadata": {},
   "outputs": [
    {
     "name": "stdout",
     "output_type": "stream",
     "text": [
      "Step = 1, Sinkhorn divergence = 16.179340362548828\n",
      "Step = 2, Sinkhorn divergence = 14.736889839172363\n",
      "Step = 3, Sinkhorn divergence = 13.347339630126953\n",
      "Step = 4, Sinkhorn divergence = 12.138679504394531\n",
      "Step = 5, Sinkhorn divergence = 11.019439697265625\n",
      "Step = 6, Sinkhorn divergence = 9.901769638061523\n",
      "Step = 7, Sinkhorn divergence = 8.841699600219727\n",
      "Step = 8, Sinkhorn divergence = 8.066309928894043\n",
      "Step = 9, Sinkhorn divergence = 7.3012800216674805\n",
      "Step = 10, Sinkhorn divergence = 6.526219844818115\n",
      "Step = 11, Sinkhorn divergence = 5.83922004699707\n",
      "Step = 12, Sinkhorn divergence = 5.229489803314209\n",
      "Step = 13, Sinkhorn divergence = 4.546710014343262\n",
      "Step = 14, Sinkhorn divergence = 3.9638400077819824\n",
      "Step = 15, Sinkhorn divergence = 3.4508798122406006\n",
      "Step = 16, Sinkhorn divergence = 3.010200023651123\n",
      "Step = 17, Sinkhorn divergence = 2.54899001121521\n",
      "Step = 18, Sinkhorn divergence = 2.192319869995117\n",
      "Step = 19, Sinkhorn divergence = 1.937559962272644\n",
      "Step = 20, Sinkhorn divergence = 1.689769983291626\n",
      "Step = 21, Sinkhorn divergence = 1.4507499933242798\n",
      "Step = 22, Sinkhorn divergence = 1.2214399576187134\n",
      "Step = 23, Sinkhorn divergence = 1.0393400192260742\n",
      "Step = 24, Sinkhorn divergence = 0.8981799483299255\n",
      "Step = 25, Sinkhorn divergence = 0.7582399845123291\n",
      "Step = 26, Sinkhorn divergence = 0.6428999900817871\n",
      "Step = 27, Sinkhorn divergence = 0.5467100143432617\n",
      "Step = 28, Sinkhorn divergence = 0.462939977645874\n",
      "Step = 29, Sinkhorn divergence = 0.3909299969673157\n",
      "Step = 30, Sinkhorn divergence = 0.3219499886035919\n",
      "Step = 31, Sinkhorn divergence = 0.2644599974155426\n",
      "Step = 32, Sinkhorn divergence = 0.21096999943256378\n",
      "Step = 33, Sinkhorn divergence = 0.16744999587535858\n",
      "Step = 34, Sinkhorn divergence = 0.1369599997997284\n",
      "Step = 35, Sinkhorn divergence = 0.11897999793291092\n",
      "Step = 36, Sinkhorn divergence = 0.09891999512910843\n",
      "Step = 37, Sinkhorn divergence = 0.07864999771118164\n",
      "Step = 38, Sinkhorn divergence = 0.06272999942302704\n",
      "Step = 39, Sinkhorn divergence = 0.050680000334978104\n",
      "Step = 40, Sinkhorn divergence = 0.03776000067591667\n",
      "Step = 41, Sinkhorn divergence = 0.029279999434947968\n",
      "Step = 42, Sinkhorn divergence = 0.020429998636245728\n",
      "Step = 43, Sinkhorn divergence = 0.01413000002503395\n",
      "Step = 44, Sinkhorn divergence = 0.00993999931961298\n",
      "Step = 45, Sinkhorn divergence = 0.007069999817758799\n",
      "Step = 46, Sinkhorn divergence = 0.005219999700784683\n",
      "Step = 47, Sinkhorn divergence = 0.004040000028908253\n",
      "Step = 48, Sinkhorn divergence = 0.0032599999103695154\n",
      "Step = 49, Sinkhorn divergence = 0.0027199999894946814\n",
      "Step = 50, Sinkhorn divergence = 0.0023399998899549246\n",
      "Step = 51, Sinkhorn divergence = 0.002050000010058284\n",
      "Step = 52, Sinkhorn divergence = 0.001820000004954636\n",
      "Step = 53, Sinkhorn divergence = 0.0016399999149143696\n",
      "Step = 54, Sinkhorn divergence = 0.0014799999771639705\n",
      "Step = 55, Sinkhorn divergence = 0.0013599999947473407\n",
      "Step = 56, Sinkhorn divergence = 0.0012599999317899346\n",
      "Step = 57, Sinkhorn divergence = 0.0011699999449774623\n",
      "Step = 58, Sinkhorn divergence = 0.0010999999940395355\n",
      "Step = 59, Sinkhorn divergence = 0.001029999926686287\n",
      "Step = 60, Sinkhorn divergence = 0.0009800000116229057\n",
      "Step = 61, Sinkhorn divergence = 0.0009299999801442027\n",
      "Step = 62, Sinkhorn divergence = 0.0008899999666027725\n",
      "Step = 63, Sinkhorn divergence = 0.000859999970998615\n",
      "Step = 64, Sinkhorn divergence = 0.0008199999574571848\n",
      "Step = 65, Sinkhorn divergence = 0.0007899999618530273\n",
      "Step = 66, Sinkhorn divergence = 0.0007699999841861427\n",
      "Step = 67, Sinkhorn divergence = 0.0007399999885819852\n",
      "Step = 68, Sinkhorn divergence = 0.0007200000109151006\n",
      "Step = 69, Sinkhorn divergence = 0.0006899999571032822\n",
      "Step = 70, Sinkhorn divergence = 0.0006799999973736703\n",
      "Step = 71, Sinkhorn divergence = 0.0006599999614991248\n",
      "Step = 72, Sinkhorn divergence = 0.0006399999838322401\n",
      "Step = 73, Sinkhorn divergence = 0.0006299999658949673\n",
      "Step = 74, Sinkhorn divergence = 0.0006099999882280827\n",
      "Step = 75, Sinkhorn divergence = 0.0005999999702908099\n",
      "Step = 76, Sinkhorn divergence = 0.000590000010561198\n",
      "Step = 77, Sinkhorn divergence = 0.0005799999926239252\n",
      "Step = 78, Sinkhorn divergence = 0.0005699999746866524\n",
      "Step = 79, Sinkhorn divergence = 0.0005699999746866524\n",
      "Step = 80, Sinkhorn divergence = 0.0005599999567493796\n",
      "Step = 81, Sinkhorn divergence = 0.0005499999970197678\n",
      "Step = 82, Sinkhorn divergence = 0.000539999979082495\n",
      "Step = 83, Sinkhorn divergence = 0.0005299999611452222\n",
      "Step = 84, Sinkhorn divergence = 0.0005200000014156103\n",
      "Step = 85, Sinkhorn divergence = 0.0005200000014156103\n",
      "Step = 86, Sinkhorn divergence = 0.0005099999834783375\n",
      "Step = 87, Sinkhorn divergence = 0.0005099999834783375\n",
      "Step = 88, Sinkhorn divergence = 0.0004999999655410647\n",
      "Step = 89, Sinkhorn divergence = 0.0004900000058114529\n",
      "Step = 90, Sinkhorn divergence = 0.0004900000058114529\n",
      "Step = 91, Sinkhorn divergence = 0.0004799999878741801\n",
      "Step = 92, Sinkhorn divergence = 0.0004799999878741801\n",
      "Step = 93, Sinkhorn divergence = 0.00046999999904073775\n",
      "Step = 94, Sinkhorn divergence = 0.00046999999904073775\n",
      "Step = 95, Sinkhorn divergence = 0.00045999998110346496\n",
      "Step = 96, Sinkhorn divergence = 0.00044999999227002263\n",
      "Step = 97, Sinkhorn divergence = 0.00044999999227002263\n",
      "Step = 98, Sinkhorn divergence = 0.00043999997433274984\n",
      "Step = 99, Sinkhorn divergence = 0.00043999997433274984\n",
      "Step = 100, Sinkhorn divergence = 0.0004299999854993075\n"
     ]
    }
   ],
   "source": [
    "sample = sampler((n_particles, 1))\n",
    "weights = w(sample, y)\n",
    "usf = ws.UniformSampleFinder(sample, weights, epsilon=0.01, cost_p=10)\n",
    "u_sample = usf.find(n_iters=100);"
   ]
  },
  {
   "cell_type": "code",
   "execution_count": 8,
   "id": "judicial-turkey",
   "metadata": {},
   "outputs": [
    {
     "data": {
      "image/png": "[encoded data removed]",
      "text/plain": [
       "<Figure size 432x288 with 1 Axes>"
      ]
     },
     "metadata": {
      "needs_background": "light"
     },
     "output_type": "display_data"
    }
   ],
   "source": [
    "sample_ = tf.squeeze(sample).numpy()\n",
    "x = np.arange(y/2.-2., y/2.+2., 0.8)\n",
    "px = np.exp(-(x-y/2.)**2)/np.sqrt(np.pi)\n",
    "z = Z.sample(n_particles).numpy()\n",
    "plt.hist(sample_, density=True, label='weighted sample')\n",
    "plt.hist(z, density=True, label='true sample')\n",
    "plt.hist(u_sample.numpy(), density=True, label='uniform sample after Sinkhorn descent')\n",
    "plt.plot(x, px, label='True density')\n",
    "plt.legend()\n",
    "plt.show()"
   ]
  },
  {
   "cell_type": "code",
   "execution_count": 12,
   "id": "simplified-chancellor",
   "metadata": {},
   "outputs": [
    {
     "data": {
      "text/plain": [
       "2.3669312"
      ]
     },
     "execution_count": 12,
     "metadata": {},
     "output_type": "execute_result"
    }
   ],
   "source": [
    "np.sum(sample_ * weights) / weights.numpy().sum()"
   ]
  },
  {
   "cell_type": "code",
   "execution_count": 4,
   "id": "declared-manchester",
   "metadata": {},
   "outputs": [
    {
     "ename": "TypeError",
     "evalue": "'Variable' object is not iterable.",
     "output_type": "error",
     "traceback": [
      "\u001b[1;31m---------------------------------------------------------------------------\u001b[0m",
      "\u001b[1;31mTypeError\u001b[0m                                 Traceback (most recent call last)",
      "\u001b[1;32m<ipython-input-4-083973327a7e>\u001b[0m in \u001b[0;36m<module>\u001b[1;34m\u001b[0m\n\u001b[0;32m      3\u001b[0m \u001b[0mweight_fn\u001b[0m \u001b[1;33m=\u001b[0m \u001b[1;32mlambda\u001b[0m \u001b[0mx\u001b[0m\u001b[1;33m:\u001b[0m \u001b[0mw\u001b[0m\u001b[1;33m(\u001b[0m\u001b[0mx\u001b[0m\u001b[1;33m,\u001b[0m \u001b[0my\u001b[0m\u001b[1;33m)\u001b[0m\u001b[1;33m\u001b[0m\u001b[1;33m\u001b[0m\u001b[0m\n\u001b[0;32m      4\u001b[0m \u001b[0musf\u001b[0m \u001b[1;33m=\u001b[0m \u001b[0mws\u001b[0m\u001b[1;33m.\u001b[0m\u001b[0mUniformSampleFinder\u001b[0m\u001b[1;33m(\u001b[0m\u001b[0msample\u001b[0m\u001b[1;33m,\u001b[0m \u001b[0mweights\u001b[0m\u001b[1;33m,\u001b[0m \u001b[0mepsilon\u001b[0m\u001b[1;33m=\u001b[0m\u001b[1;36m0.01\u001b[0m\u001b[1;33m,\u001b[0m \u001b[0mcost_p\u001b[0m\u001b[1;33m=\u001b[0m\u001b[1;36m2\u001b[0m\u001b[1;33m)\u001b[0m\u001b[1;33m\u001b[0m\u001b[1;33m\u001b[0m\u001b[0m\n\u001b[1;32m----> 5\u001b[1;33m \u001b[0mu_sample\u001b[0m \u001b[1;33m=\u001b[0m \u001b[0musf\u001b[0m\u001b[1;33m.\u001b[0m\u001b[0mfind_3\u001b[0m\u001b[1;33m(\u001b[0m\u001b[0mn_iters\u001b[0m\u001b[1;33m=\u001b[0m\u001b[1;36m100\u001b[0m\u001b[1;33m)\u001b[0m\u001b[1;33m;\u001b[0m\u001b[1;33m\u001b[0m\u001b[1;33m\u001b[0m\u001b[0m\n\u001b[0m",
      "\u001b[1;32m~\\Documents\\GitHub\\sinkhorn-descent/modules\\wasserstein.py\u001b[0m in \u001b[0;36mfind_3\u001b[1;34m(self, n_iters, learning_rate)\u001b[0m\n\u001b[0;32m    150\u001b[0m                 res = sinkhorn_div_tf(self.u_sample, self.w_sample, None, self.c_weights,\\\n\u001b[0;32m    151\u001b[0m                             self.epsilon, self.n_sink_iters, self.cost_p)\n\u001b[1;32m--> 152\u001b[1;33m                 \u001b[0moptimizer\u001b[0m\u001b[1;33m.\u001b[0m\u001b[0mapply_gradients\u001b[0m\u001b[1;33m(\u001b[0m\u001b[0mself\u001b[0m\u001b[1;33m.\u001b[0m\u001b[0mc_weights\u001b[0m\u001b[1;33m,\u001b[0m \u001b[0mres\u001b[0m\u001b[1;33m[\u001b[0m\u001b[1;36m1\u001b[0m\u001b[1;33m]\u001b[0m\u001b[1;33m-\u001b[0m\u001b[0mres\u001b[0m\u001b[1;33m[\u001b[0m\u001b[1;36m0\u001b[0m\u001b[1;33m]\u001b[0m\u001b[1;33m)\u001b[0m\u001b[1;33m\u001b[0m\u001b[1;33m\u001b[0m\u001b[0m\n\u001b[0m\u001b[0;32m    153\u001b[0m \u001b[1;33m\u001b[0m\u001b[0m\n\u001b[0;32m    154\u001b[0m \u001b[1;33m\u001b[0m\u001b[0m\n",
      "\u001b[1;32mc:\\users\\pinak\\.conda\\envs\\py38\\lib\\site-packages\\tensorflow\\python\\keras\\optimizer_v2\\optimizer_v2.py\u001b[0m in \u001b[0;36mapply_gradients\u001b[1;34m(self, grads_and_vars, name, experimental_aggregate_gradients)\u001b[0m\n\u001b[0;32m    596\u001b[0m       \u001b[0mRuntimeError\u001b[0m\u001b[1;33m:\u001b[0m \u001b[0mIf\u001b[0m \u001b[0mcalled\u001b[0m \u001b[1;32min\u001b[0m \u001b[0ma\u001b[0m \u001b[0mcross\u001b[0m\u001b[1;33m-\u001b[0m\u001b[0mreplica\u001b[0m \u001b[0mcontext\u001b[0m\u001b[1;33m.\u001b[0m\u001b[1;33m\u001b[0m\u001b[1;33m\u001b[0m\u001b[0m\n\u001b[0;32m    597\u001b[0m     \"\"\"\n\u001b[1;32m--> 598\u001b[1;33m     \u001b[0mgrads_and_vars\u001b[0m \u001b[1;33m=\u001b[0m \u001b[0moptimizer_utils\u001b[0m\u001b[1;33m.\u001b[0m\u001b[0mfilter_empty_gradients\u001b[0m\u001b[1;33m(\u001b[0m\u001b[0mgrads_and_vars\u001b[0m\u001b[1;33m)\u001b[0m\u001b[1;33m\u001b[0m\u001b[1;33m\u001b[0m\u001b[0m\n\u001b[0m\u001b[0;32m    599\u001b[0m     \u001b[0mvar_list\u001b[0m \u001b[1;33m=\u001b[0m \u001b[1;33m[\u001b[0m\u001b[0mv\u001b[0m \u001b[1;32mfor\u001b[0m \u001b[1;33m(\u001b[0m\u001b[0m_\u001b[0m\u001b[1;33m,\u001b[0m \u001b[0mv\u001b[0m\u001b[1;33m)\u001b[0m \u001b[1;32min\u001b[0m \u001b[0mgrads_and_vars\u001b[0m\u001b[1;33m]\u001b[0m\u001b[1;33m\u001b[0m\u001b[1;33m\u001b[0m\u001b[0m\n\u001b[0;32m    600\u001b[0m \u001b[1;33m\u001b[0m\u001b[0m\n",
      "\u001b[1;32mc:\\users\\pinak\\.conda\\envs\\py38\\lib\\site-packages\\tensorflow\\python\\keras\\optimizer_v2\\utils.py\u001b[0m in \u001b[0;36mfilter_empty_gradients\u001b[1;34m(grads_and_vars)\u001b[0m\n\u001b[0;32m     62\u001b[0m \u001b[1;32mdef\u001b[0m \u001b[0mfilter_empty_gradients\u001b[0m\u001b[1;33m(\u001b[0m\u001b[0mgrads_and_vars\u001b[0m\u001b[1;33m)\u001b[0m\u001b[1;33m:\u001b[0m\u001b[1;33m\u001b[0m\u001b[1;33m\u001b[0m\u001b[0m\n\u001b[0;32m     63\u001b[0m   \u001b[1;34m\"\"\"Filter out `(grad, var)` pairs that have a gradient equal to `None`.\"\"\"\u001b[0m\u001b[1;33m\u001b[0m\u001b[1;33m\u001b[0m\u001b[0m\n\u001b[1;32m---> 64\u001b[1;33m   \u001b[0mgrads_and_vars\u001b[0m \u001b[1;33m=\u001b[0m \u001b[0mtuple\u001b[0m\u001b[1;33m(\u001b[0m\u001b[0mgrads_and_vars\u001b[0m\u001b[1;33m)\u001b[0m\u001b[1;33m\u001b[0m\u001b[1;33m\u001b[0m\u001b[0m\n\u001b[0m\u001b[0;32m     65\u001b[0m   \u001b[1;32mif\u001b[0m \u001b[1;32mnot\u001b[0m \u001b[0mgrads_and_vars\u001b[0m\u001b[1;33m:\u001b[0m\u001b[1;33m\u001b[0m\u001b[1;33m\u001b[0m\u001b[0m\n\u001b[0;32m     66\u001b[0m     \u001b[1;32mreturn\u001b[0m \u001b[0mgrads_and_vars\u001b[0m\u001b[1;33m\u001b[0m\u001b[1;33m\u001b[0m\u001b[0m\n",
      "\u001b[1;32mc:\\users\\pinak\\.conda\\envs\\py38\\lib\\site-packages\\tensorflow\\python\\ops\\variables.py\u001b[0m in \u001b[0;36m__iter__\u001b[1;34m(self)\u001b[0m\n\u001b[0;32m   1114\u001b[0m       \u001b[0mTypeError\u001b[0m\u001b[1;33m:\u001b[0m \u001b[0mwhen\u001b[0m \u001b[0minvoked\u001b[0m\u001b[1;33m.\u001b[0m\u001b[1;33m\u001b[0m\u001b[1;33m\u001b[0m\u001b[0m\n\u001b[0;32m   1115\u001b[0m     \"\"\"\n\u001b[1;32m-> 1116\u001b[1;33m     \u001b[1;32mraise\u001b[0m \u001b[0mTypeError\u001b[0m\u001b[1;33m(\u001b[0m\u001b[1;34m\"'Variable' object is not iterable.\"\u001b[0m\u001b[1;33m)\u001b[0m\u001b[1;33m\u001b[0m\u001b[1;33m\u001b[0m\u001b[0m\n\u001b[0m\u001b[0;32m   1117\u001b[0m \u001b[1;33m\u001b[0m\u001b[0m\n\u001b[0;32m   1118\u001b[0m   \u001b[1;31m# NOTE(mrry): This enables the Variable's overloaded \"right\" binary\u001b[0m\u001b[1;33m\u001b[0m\u001b[1;33m\u001b[0m\u001b[1;33m\u001b[0m\u001b[0m\n",
      "\u001b[1;31mTypeError\u001b[0m: 'Variable' object is not iterable."
     ]
    }
   ],
   "source": [
    "u_sample"
   ]
  },
  {
   "cell_type": "code",
   "execution_count": null,
   "id": "running-argentina",
   "metadata": {},
   "outputs": [],
   "source": [
    "sample_ = tf.squeeze(sample).numpy()\n",
    "x = np.arange(y/2.-2., y/2.+2., 0.8)\n",
    "px = np.exp(-(x-y/2.)**2)/np.sqrt(np.pi)\n",
    "z = Z.sample(n_particles).numpy()\n",
    "fig = plt.figure(figsize=(10, 10))\n",
    "ax = fig.add_subplot(111)\n",
    "ax.hist(sample_, density=True, label='weighted sample')\n",
    "ax.hist(z, density=True, label='true sample')\n",
    "ax.hist(u_sample.numpy(), density=True, label='uniform sample after Sinkhorn descent')\n",
    "ax.plot(x, px, label='True density', c='red')\n",
    "plt.legend()\n",
    "plt.show()"
   ]
  },
  {
   "cell_type": "code",
   "execution_count": 16,
   "id": "normal-impression",
   "metadata": {},
   "outputs": [
    {
     "data": {
      "text/plain": [
       "<tf.Tensor: shape=(100,), dtype=float32, numpy=\n",
       "array([1.03169426e-04, 6.70599111e-05, 2.07980452e-10, 2.91829556e-03,\n",
       "       1.41228504e-08, 1.74459990e-06, 1.57817285e-05, 6.25420541e-15,\n",
       "       3.84807519e-10, 4.56161928e-07, 1.86995242e-09, 2.20749841e-09,\n",
       "       4.09357206e-08, 1.17306465e-09, 2.91541569e-09, 3.69585723e-01,\n",
       "       1.09450654e-15, 1.70964686e-05, 1.76849146e-09, 4.08557923e-07,\n",
       "       6.03504020e-08, 2.86066424e-08, 1.58225335e-02, 7.61299889e-05,\n",
       "       6.25572427e-10, 8.54055361e-06, 8.66561294e-08, 1.35859098e-15,\n",
       "       3.56783090e-07, 4.28883240e-08, 1.49459084e-10, 4.96075451e-02,\n",
       "       4.02241263e-08, 2.55730352e-04, 5.12558052e-10, 1.30802015e-04,\n",
       "       4.21391093e-07, 5.73744142e-11, 4.00143776e-08, 1.28709435e-13,\n",
       "       1.17221589e-07, 2.58275623e-10, 1.92059910e-12, 2.82805442e-04,\n",
       "       5.54672697e-10, 2.80508377e-11, 3.05188999e-11, 4.44275520e-06,\n",
       "       3.10013798e-12, 5.50083069e-11, 4.84998736e-07, 9.60815578e-06,\n",
       "       1.14055888e-06, 5.00791388e-11, 2.07695157e-05, 1.67913220e-06,\n",
       "       1.93065758e-10, 4.66175046e-18, 7.66598951e-10, 1.81994532e-04,\n",
       "       2.16410426e-05, 5.27623296e-01, 3.67572247e-05, 3.51089739e-06,\n",
       "       6.48313435e-03, 1.15131288e-05, 7.59281527e-12, 2.31493643e-04,\n",
       "       1.38030926e-04, 2.80671920e-05, 1.08877737e-02, 2.73404965e-10,\n",
       "       9.40730143e-03, 1.89746936e-06, 6.78727133e-07, 3.81520926e-03,\n",
       "       2.09178030e-09, 5.07393435e-16, 9.67679979e-16, 9.40901828e-08,\n",
       "       3.13998882e-10, 5.52567997e-07, 1.99132213e-08, 7.09467851e-15,\n",
       "       1.33845987e-07, 2.77210370e-06, 1.47863295e-06, 1.39444243e-08,\n",
       "       1.87121540e-09, 3.89314082e-05, 4.44946274e-10, 2.63773882e-06,\n",
       "       7.43415399e-07, 5.98888903e-07, 1.23929403e-05, 2.46520582e-11,\n",
       "       2.13390216e-03, 2.21243667e-07, 3.21836064e-13, 5.58950424e-18],\n",
       "      dtype=float32)>"
      ]
     },
     "execution_count": 16,
     "metadata": {},
     "output_type": "execute_result"
    }
   ],
   "source": [
    "weights/tf.reduce_sum(weights)"
   ]
  },
  {
   "cell_type": "code",
   "execution_count": null,
   "id": "therapeutic-doubt",
   "metadata": {},
   "outputs": [],
   "source": [
    "u_sample"
   ]
  },
  {
   "cell_type": "code",
   "execution_count": null,
   "id": "latin-submission",
   "metadata": {},
   "outputs": [],
   "source": []
  }
 ],
 "metadata": {
  "kernelspec": {
   "display_name": "Python 3",
   "language": "python",
   "name": "python3"
  },
  "language_info": {
   "codemirror_mode": {
    "name": "ipython",
    "version": 3
   },
   "file_extension": ".py",
   "mimetype": "text/x-python",
   "name": "python",
   "nbconvert_exporter": "python",
   "pygments_lexer": "ipython3",
   "version": "3.8.3"
  }
 },
 "nbformat": 4,
 "nbformat_minor": 5
}
