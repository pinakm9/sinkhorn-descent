{
 "cells": [
  {
   "cell_type": "code",
   "execution_count": 1,
   "metadata": {
    "colab": {
     "base_uri": "https://localhost:8080/"
    },
    "id": "BjcpGUOOf_xB",
    "outputId": "25b4a00d-e4ca-4b5b-babd-8fd097bcaf26"
   },
   "outputs": [
    {
     "name": "stdout",
     "output_type": "stream",
     "text": [
      "C:\\Users\\pinak\\Documents\\GitHub\\sinkhorn-descent\\notebooks\n",
      "C:\\Users\\pinak\\Documents\\GitHub\\sinkhorn-descent\n"
     ]
    }
   ],
   "source": [
    "# add modules folder to Python's search path\n",
    "import os, sys\n",
    "from pathlib import Path\n",
    "\n",
    "script_dir = Path(os.path.abspath(''))\n",
    "module_dir = str(script_dir.parent)\n",
    "print(script_dir)\n",
    "print(module_dir)\n",
    "sys.path.insert(0, module_dir + '/modules')\n",
    "# import necessary modules\n",
    "import wasserstein as ws\n",
    "import tensorflow_probability as tfp\n",
    "import tensorflow as tf\n",
    "import matplotlib.pyplot as plt"
   ]
  },
  {
   "cell_type": "markdown",
   "metadata": {
    "id": "3gKt_PYohHQc"
   },
   "source": [
    "**Test Sinkhorn algorithm with near-zero weights**"
   ]
  },
  {
   "cell_type": "code",
   "execution_count": 21,
   "metadata": {
    "colab": {
     "base_uri": "https://localhost:8080/",
     "height": 472
    },
    "id": "RryNN8t3iTBN",
    "outputId": "193cd54d-4f5f-4685-c2fc-0b987c4821c3"
   },
   "outputs": [
    {
     "name": "stdout",
     "output_type": "stream",
     "text": [
      "tf.Tensor(17.59238, shape=(), dtype=float32)\n",
      "tf.Tensor(18.32245, shape=(), dtype=float32)\n"
     ]
    }
   ],
   "source": [
    "dimension, n_particles, low_weight = 10, 50, 1e-500\n",
    "half = int(n_particles/2)\n",
    "particles_1 = tf.random.normal(shape=(n_particles, dimension)) + tf.ones((n_particles, dimension))\n",
    "weights_1 = [low_weight for _ in range(int(n_particles/2))] + [(1- 0.5 * n_particles * low_weight)/(0.5 * n_particles) for _ in range(int(n_particles/2))]\n",
    "particles_2 = tf.random.normal(shape=(n_particles, dimension))\n",
    "weights_2 = [1.0/n_particles for _ in range(n_particles)]\n",
    "\n",
    "# Sinkhorn with small weights\n",
    "print(ws.sinkhorn_div_tf(particles_1, particles_2, weights_1, weights_2)[0]);\n",
    "# Sinkhorn without small weights\n",
    "print(ws.sinkhorn_div_tf(particles_1[half:], particles_2[half:], weights_1[half:], weights_2[half:])[0]);"
   ]
  },
  {
   "cell_type": "markdown",
   "metadata": {},
   "source": [
    "**Check if Sinkhorn Gradent descent is working properly**"
   ]
  },
  {
   "cell_type": "code",
   "execution_count": 13,
   "metadata": {
    "id": "poJkK4CulPcE"
   },
   "outputs": [
    {
     "data": {
      "text/plain": [
       "<tf.Tensor: shape=(), dtype=float32, numpy=2.1528301>"
      ]
     },
     "execution_count": 13,
     "metadata": {},
     "output_type": "execute_result"
    }
   ],
   "source": [
    "_, grads = ws.sink_grad_position(particles_1[half:], particles_2[half:], weights_1[half:], weights_2[half:]);\n",
    "positions = [tf.Variable(z) for z in particles_1[half:]]\n",
    "optimizer = tf.keras.optimizers.Adam(1e-1)\n",
    "optimizer.apply_gradients(zip(grads, positions),  experimental_aggregate_gradients=False)\n",
    "# output should be a positive number\n",
    "ws.sinkhorn_div_tf(particles_1[half:], particles_2[half:], weights_1[half:], weights_2[half:])[0]-ws.sinkhorn_div_tf(positions, particles_2[half:], weights_1[half:], weights_2[half:])[0]"
   ]
  },
  {
   "cell_type": "markdown",
   "metadata": {
    "id": "n2nJM45joc-E"
   },
   "source": [
    "**Define weight function, pdf and sampler**"
   ]
  },
  {
   "cell_type": "code",
   "execution_count": 6,
   "metadata": {
    "id": "N-130YitsVsT"
   },
   "outputs": [],
   "source": [
    "def w(x, y):\n",
    "  return tf.math.exp(-tf.reduce_sum((x-y)**2, axis=1))\n",
    "y = tf.ones((n_particles, dimension))\n",
    "\n",
    "X = tfp.distributions.MultivariateNormalDiag(scale_diag=tf.ones(dimension))\n",
    "def p(x):\n",
    "  return X.prob(x)\n",
    "def sampler(shape):\n",
    "  return X.sample(shape)"
   ]
  },
  {
   "cell_type": "markdown",
   "metadata": {
    "id": "Xr6r4ogFtSVM"
   },
   "source": [
    "**Use Sinkhorn Gradient descent to find a uniform sample**"
   ]
  },
  {
   "cell_type": "code",
   "execution_count": 7,
   "metadata": {
    "id": "bQIQba1jwYIC"
   },
   "outputs": [
    {
     "name": "stdout",
     "output_type": "stream",
     "text": [
      "Step = 1, Sinkhorn divergence = 6.46921968460083\n",
      "Step = 2, Sinkhorn divergence = 5.7132697105407715\n",
      "Step = 3, Sinkhorn divergence = 5.328889846801758\n",
      "Step = 4, Sinkhorn divergence = 4.822479724884033\n",
      "Step = 5, Sinkhorn divergence = 4.345849990844727\n",
      "Step = 6, Sinkhorn divergence = 3.928879976272583\n",
      "Step = 7, Sinkhorn divergence = 3.580709934234619\n",
      "Step = 8, Sinkhorn divergence = 3.2697598934173584\n",
      "Step = 9, Sinkhorn divergence = 2.9816298484802246\n",
      "Step = 10, Sinkhorn divergence = 2.7659800052642822\n",
      "Step = 11, Sinkhorn divergence = 2.582059860229492\n",
      "Step = 12, Sinkhorn divergence = 2.4069299697875977\n",
      "Step = 13, Sinkhorn divergence = 2.2512099742889404\n",
      "Step = 14, Sinkhorn divergence = 2.1159698963165283\n",
      "Step = 15, Sinkhorn divergence = 1.993209958076477\n",
      "Step = 16, Sinkhorn divergence = 1.8995800018310547\n",
      "Step = 17, Sinkhorn divergence = 1.8292399644851685\n",
      "Step = 18, Sinkhorn divergence = 1.75232994556427\n",
      "Step = 19, Sinkhorn divergence = 1.6701699495315552\n",
      "Step = 20, Sinkhorn divergence = 1.5854299068450928\n",
      "Step = 21, Sinkhorn divergence = 1.5124199390411377\n",
      "Step = 22, Sinkhorn divergence = 1.4511100053787231\n",
      "Step = 23, Sinkhorn divergence = 1.383389949798584\n",
      "Step = 24, Sinkhorn divergence = 1.350160002708435\n",
      "Step = 25, Sinkhorn divergence = 1.3058799505233765\n",
      "Step = 26, Sinkhorn divergence = 1.2444599866867065\n",
      "Step = 27, Sinkhorn divergence = 1.191789984703064\n",
      "Step = 28, Sinkhorn divergence = 1.1710100173950195\n",
      "Step = 29, Sinkhorn divergence = 1.1476199626922607\n",
      "Step = 30, Sinkhorn divergence = 1.1300899982452393\n",
      "Step = 31, Sinkhorn divergence = 1.1300699710845947\n",
      "Step = 32, Sinkhorn divergence = 1.1058800220489502\n",
      "Step = 33, Sinkhorn divergence = 1.0701500177383423\n",
      "Step = 34, Sinkhorn divergence = 1.0763499736785889\n",
      "Step = 35, Sinkhorn divergence = 1.0744099617004395\n",
      "Step = 36, Sinkhorn divergence = 1.0397599935531616\n",
      "Step = 37, Sinkhorn divergence = 0.9917999505996704\n",
      "Step = 38, Sinkhorn divergence = 0.9907799959182739\n",
      "Step = 39, Sinkhorn divergence = 0.9922299981117249\n",
      "Step = 40, Sinkhorn divergence = 0.9526199698448181\n",
      "Step = 41, Sinkhorn divergence = 0.9572999477386475\n",
      "Step = 42, Sinkhorn divergence = 0.9546399712562561\n",
      "Step = 43, Sinkhorn divergence = 0.9157299995422363\n",
      "Step = 44, Sinkhorn divergence = 0.8860399723052979\n",
      "Step = 45, Sinkhorn divergence = 0.8685100078582764\n",
      "Step = 46, Sinkhorn divergence = 0.868399977684021\n",
      "Step = 47, Sinkhorn divergence = 0.8592699766159058\n",
      "Step = 48, Sinkhorn divergence = 0.8469199538230896\n",
      "Step = 49, Sinkhorn divergence = 0.8384999632835388\n",
      "Step = 50, Sinkhorn divergence = 0.8247399926185608\n",
      "Step = 51, Sinkhorn divergence = 0.8191899657249451\n",
      "Step = 52, Sinkhorn divergence = 0.8207299709320068\n",
      "Step = 53, Sinkhorn divergence = 0.8205099701881409\n",
      "Step = 54, Sinkhorn divergence = 0.8248599767684937\n",
      "Step = 55, Sinkhorn divergence = 0.8046199679374695\n",
      "Step = 56, Sinkhorn divergence = 0.800529956817627\n",
      "Step = 57, Sinkhorn divergence = 0.7929999828338623\n",
      "Step = 58, Sinkhorn divergence = 0.790340006351471\n",
      "Step = 59, Sinkhorn divergence = 0.7937600016593933\n",
      "Step = 60, Sinkhorn divergence = 0.7867299914360046\n",
      "Step = 61, Sinkhorn divergence = 0.7803899645805359\n",
      "Step = 62, Sinkhorn divergence = 0.7790799736976624\n",
      "Step = 63, Sinkhorn divergence = 0.7728300094604492\n",
      "Step = 64, Sinkhorn divergence = 0.7773299813270569\n",
      "Step = 65, Sinkhorn divergence = 0.7799999713897705\n",
      "Step = 66, Sinkhorn divergence = 0.7773399949073792\n",
      "Step = 67, Sinkhorn divergence = 0.7748499512672424\n",
      "Step = 68, Sinkhorn divergence = 0.7627399563789368\n",
      "Step = 69, Sinkhorn divergence = 0.7640199661254883\n",
      "Step = 70, Sinkhorn divergence = 0.7699300050735474\n",
      "Step = 71, Sinkhorn divergence = 0.7704899907112122\n",
      "Step = 72, Sinkhorn divergence = 0.7667299509048462\n",
      "Step = 73, Sinkhorn divergence = 0.7606399655342102\n",
      "Step = 74, Sinkhorn divergence = 0.7623099684715271\n",
      "Step = 75, Sinkhorn divergence = 0.7604699730873108\n",
      "Step = 76, Sinkhorn divergence = 0.7598199844360352\n",
      "Step = 77, Sinkhorn divergence = 0.7565000057220459\n",
      "Step = 78, Sinkhorn divergence = 0.7545599937438965\n",
      "Step = 79, Sinkhorn divergence = 0.7523899674415588\n",
      "Step = 80, Sinkhorn divergence = 0.7501599788665771\n",
      "Step = 81, Sinkhorn divergence = 0.7347300052642822\n",
      "Step = 82, Sinkhorn divergence = 0.726170003414154\n",
      "Step = 83, Sinkhorn divergence = 0.7167099714279175\n",
      "Step = 84, Sinkhorn divergence = 0.7083699703216553\n",
      "Step = 85, Sinkhorn divergence = 0.7041699886322021\n",
      "Step = 86, Sinkhorn divergence = 0.7002699971199036\n",
      "Step = 87, Sinkhorn divergence = 0.6915499567985535\n",
      "Step = 88, Sinkhorn divergence = 0.682889997959137\n",
      "Step = 89, Sinkhorn divergence = 0.6949099898338318\n",
      "Step = 90, Sinkhorn divergence = 0.6891700029373169\n",
      "Step = 91, Sinkhorn divergence = 0.6765899658203125\n",
      "Step = 92, Sinkhorn divergence = 0.6847800016403198\n",
      "Step = 93, Sinkhorn divergence = 0.6947900056838989\n",
      "Step = 94, Sinkhorn divergence = 0.69718998670578\n",
      "Step = 95, Sinkhorn divergence = 0.6890599727630615\n",
      "Step = 96, Sinkhorn divergence = 0.689009964466095\n",
      "Step = 97, Sinkhorn divergence = 0.684149980545044\n",
      "Step = 98, Sinkhorn divergence = 0.6729999780654907\n",
      "Step = 99, Sinkhorn divergence = 0.6725899577140808\n",
      "Step = 100, Sinkhorn divergence = 0.6749899983406067\n"
     ]
    }
   ],
   "source": [
    "sample = sampler(n_particles)\n",
    "weights = w(sample, y)\n",
    "usf = ws.UniformSampleFinder(sample, weights, cost_p=1)\n",
    "usf.find();"
   ]
  },
  {
   "cell_type": "code",
   "execution_count": 8,
   "metadata": {
    "id": "IrJSHaREOL2D"
   },
   "outputs": [
    {
     "data": {
      "text/plain": [
       "<tf.Tensor: shape=(4,), dtype=float32, numpy=array([ 2.,  4.,  0., 12.], dtype=float32)>"
      ]
     },
     "execution_count": 8,
     "metadata": {},
     "output_type": "execute_result"
    }
   ],
   "source": [
    "def test(z):\n",
    "  return tf.reduce_sum(z**2)\n",
    "\n",
    "z = tf.convert_to_tensor([1, 2, 0., 6.])\n",
    "with tf.GradientTape() as tape:\n",
    "  tape.watch(z)\n",
    "  f = test(z)\n",
    "tape.gradient(f, z)"
   ]
  },
  {
   "cell_type": "code",
   "execution_count": 26,
   "metadata": {},
   "outputs": [
    {
     "data": {
      "text/plain": [
       "(50, 10)"
      ]
     },
     "execution_count": 26,
     "metadata": {},
     "output_type": "execute_result"
    }
   ],
   "source": [
    "import numpy as np\n",
    "u_sample = np.array([t.numpy() for t in usf.u_sample])\n",
    "u_sample.shape"
   ]
  },
  {
   "cell_type": "code",
   "execution_count": 27,
   "metadata": {},
   "outputs": [
    {
     "data": {
      "text/plain": [
       "3.720075976020836e-44"
      ]
     },
     "execution_count": 27,
     "metadata": {},
     "output_type": "execute_result"
    }
   ],
   "source": [
    "np.exp(-100)"
   ]
  },
  {
   "cell_type": "code",
   "execution_count": null,
   "metadata": {},
   "outputs": [],
   "source": []
  }
 ],
 "metadata": {
  "colab": {
   "name": "sinkhorn descent.ipynb",
   "provenance": []
  },
  "kernelspec": {
   "display_name": "Python 3",
   "language": "python",
   "name": "python3"
  },
  "language_info": {
   "codemirror_mode": {
    "name": "ipython",
    "version": 3
   },
   "file_extension": ".py",
   "mimetype": "text/x-python",
   "name": "python",
   "nbconvert_exporter": "python",
   "pygments_lexer": "ipython3",
   "version": "3.8.3"
  }
 },
 "nbformat": 4,
 "nbformat_minor": 1
}
